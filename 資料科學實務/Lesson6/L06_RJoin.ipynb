{
 "cells": [
  {
   "cell_type": "markdown",
   "metadata": {},
   "source": [
    "R 語言資料結合 (Join) 以下教材部分取材自 R 語言翻轉教室 by Wush Wu\n",
    "\n",
    "這堂課要教的是資料連結，資料的價值往往來自將不同資料源連結後\n",
    "\n",
    "從中找出原本從單一資料源中無法得知的洞見 (Insights)\n",
    "\n",
    "這堂課將教導同學們如何有效連結來自不同來源的資料"
   ]
  },
  {
   "cell_type": "code",
   "execution_count": null,
   "metadata": {},
   "outputs": [],
   "source": [
    "# install.packages(\"dplyr\")\n",
    "# vignette(package = \"dplyr\")\n",
    "# vignette(\"introduction\", package = \"dplyr\")\n",
    "# 各位同學可以嘗試閱讀 dplyr 套件的文件，了解其源流與用法\n",
    "library(dplyr)"
   ]
  },
  {
   "cell_type": "code",
   "execution_count": null,
   "metadata": {},
   "outputs": [],
   "source": [
    "# 我們將使用紐約機場起降的飛機資料來進行練習\n",
    "# install.packages(\"nycflights13\")\n",
    "library(nycflights13)"
   ]
  },
  {
   "cell_type": "code",
   "execution_count": null,
   "metadata": {},
   "outputs": [],
   "source": [
    "# 觀察 airlines 與 flights 資料表\n",
    "# 假如我們希望將 airlines 中航空公司的全名貼入 flights 中\n",
    "# 換言之，結合 airlines 與 flights 中的資料\n",
    "# 應該參照什麼欄位呢？"
   ]
  },
  {
   "cell_type": "code",
   "execution_count": null,
   "metadata": {},
   "outputs": [],
   "source": [
    "# 當我們想要用某一張資料表的資料去補充主要資料表的內容時，會使用 left_join\n",
    "# 請參照 left_join 的 help\n",
    "# 讓我們從 flights中抽出前 100 筆資料\n",
    "# 然後「依序」選出 year:day, hour, origin, dest, tailnum, carrier等欄位\n",
    "# 最後和airlines做left_join，將資料存入 flights_info"
   ]
  },
  {
   "cell_type": "code",
   "execution_count": null,
   "metadata": {},
   "outputs": [],
   "source": [
    "# 假如我們想要將 weather 資料表的資訊與 flights_info 的資訊相結合，應該怎麼作呢？"
   ]
  },
  {
   "cell_type": "code",
   "execution_count": null,
   "metadata": {},
   "outputs": [],
   "source": [
    "# 若 沒有設定 by 參數，left_join 會自動搜尋兩張資料表中重複的名稱\n",
    "# 並且假設名稱重複的欄位意義相同，參照名稱重複的欄位進行結合\n",
    "# 請嘗試不要設定 by 參數，然後結合 flights_info 與 weather 資料表"
   ]
  },
  {
   "cell_type": "code",
   "execution_count": null,
   "metadata": {},
   "outputs": [],
   "source": [
    "# 請參照 union、intersect 與 setdiff 等函式的 help\n",
    "# 假如我們想要找出兩張資料表中名稱重複的欄位，應該要用哪個函式？"
   ]
  },
  {
   "cell_type": "code",
   "execution_count": null,
   "metadata": {},
   "outputs": [],
   "source": [
    "# 請觀察 airports 資料表\n",
    "# 假如我們想要結合 flights_info 與 airports 資料表\n",
    "# 應當參照哪個欄位來進行呢？"
   ]
  },
  {
   "cell_type": "code",
   "execution_count": null,
   "metadata": {},
   "outputs": [],
   "source": [
    "# 練習：\n",
    "# 我們現在要藉由資料表的結合，理解起飛機場的風速對於抵達時間的延遲是否有影響\n",
    "# Step 1\n",
    "# 結合 weather 與 flights 資料表\n",
    "# 最終只留下 wind_speed 與 arr_delay 兩個欄位存入 delay_info\n",
    "# hints: 過程中以 year:day, hour, origin 當成合併的key\n",
    "#        記得要檢查並且清除其中的 NA 或 NaN"
   ]
  },
  {
   "cell_type": "code",
   "execution_count": null,
   "metadata": {},
   "outputs": [],
   "source": [
    "# 畫圖觀察 wind_speed 與 arr_delay 的關係"
   ]
  },
  {
   "cell_type": "code",
   "execution_count": null,
   "metadata": {},
   "outputs": [],
   "source": [
    "# 從上面的圖形中會發現 抵達遲延與起飛風速之間的關係似乎有些微妙，難以釐清\n",
    "# 這邊我們要示範一個技巧，就是將連續型變數轉換成為類別型變數後再進行分析\n",
    "# 作法上我們會將風速平均分成若干級 (例如五級) 然後觀察每個級別的風速狀況"
   ]
  },
  {
   "cell_type": "code",
   "execution_count": null,
   "metadata": {},
   "outputs": [],
   "source": [
    "# 請參閱 quantile 函式的 help，並說明 quantile 函式的意義"
   ]
  },
  {
   "cell_type": "code",
   "execution_count": null,
   "metadata": {},
   "outputs": [],
   "source": [
    "# 請參閱 cut 函式的 help 並說明其意義"
   ]
  },
  {
   "cell_type": "code",
   "execution_count": null,
   "metadata": {},
   "outputs": [],
   "source": [
    "# quantile 函數可以找出一群資料中各個分差的值\n",
    "# cut 可以根據給定的分級依據將資料分群\n",
    "# 所以我們可以藉由 cut 以依照 wind_speed 資料分佈的分差來進行分群"
   ]
  },
  {
   "cell_type": "code",
   "execution_count": null,
   "metadata": {},
   "outputs": [],
   "source": [
    "# 這邊我們可以用 mutate 將分級資料納入 delay_info 中"
   ]
  },
  {
   "cell_type": "code",
   "execution_count": null,
   "metadata": {},
   "outputs": [],
   "source": [
    "# 觀察各級風速對於抵達延遲的影響"
   ]
  },
  {
   "cell_type": "code",
   "execution_count": null,
   "metadata": {},
   "outputs": [],
   "source": [
    "# 上述圖表會發現許多離群值，所以我們稍微修改圖形的範圍進行觀察"
   ]
  },
  {
   "cell_type": "code",
   "execution_count": null,
   "metadata": {},
   "outputs": [],
   "source": [
    "# 然後我們計算每級風速的平均抵達延遲"
   ]
  },
  {
   "cell_type": "code",
   "execution_count": null,
   "metadata": {},
   "outputs": [],
   "source": [
    "# 疑？怎麼會有 NA 應該如何解決？\n",
    "# hints: 請參照 cut 的 help 修改上述程式以解決 NA 的問題"
   ]
  },
  {
   "cell_type": "code",
   "execution_count": null,
   "metadata": {},
   "outputs": [],
   "source": [
    "# 試比較兩種做法有何不同？"
   ]
  },
  {
   "cell_type": "code",
   "execution_count": null,
   "metadata": {},
   "outputs": [],
   "source": [
    "# 延伸練習：\n",
    "# 假如風速希望可以分成十級，應該如何進行呢？"
   ]
  },
  {
   "cell_type": "code",
   "execution_count": null,
   "metadata": {},
   "outputs": [],
   "source": [
    "# 延伸練習：\n",
    "# 假如出發機場的風速對於出發延遲的影響，應該如何進行呢？"
   ]
  },
  {
   "cell_type": "code",
   "execution_count": null,
   "metadata": {},
   "outputs": [],
   "source": [
    "# 假如我們希望比較目的地機場的風速對於抵達遲延的影響，有可能嗎？\n",
    "# 如果不行？為什麼不行？"
   ]
  }
 ],
 "metadata": {
  "kernelspec": {
   "display_name": "R",
   "language": "R",
   "name": "ir"
  },
  "language_info": {
   "codemirror_mode": "r",
   "file_extension": ".r",
   "mimetype": "text/x-r-source",
   "name": "R",
   "pygments_lexer": "r",
   "version": "3.6.1"
  }
 },
 "nbformat": 4,
 "nbformat_minor": 2
}
