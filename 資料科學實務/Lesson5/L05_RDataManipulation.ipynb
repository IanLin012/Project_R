{
 "cells": [
  {
   "cell_type": "markdown",
   "metadata": {
    "collapsed": true
   },
   "source": [
    "R 語言資料處理\n",
    "以下教材部分取材自 R 語言翻轉教室 by Wush Wu\n",
    "\n",
    "這堂課要教的是資料處理\n",
    "\n",
    "我們會以 Hadley 所開發其 tidyverse 套件集中的 dplyr 套件為主\n",
    "\n",
    "並且對照 baseR 的語法，讓同學們了解其中差異"
   ]
  },
  {
   "cell_type": "code",
   "execution_count": null,
   "metadata": {},
   "outputs": [],
   "source": [
    "# install.packages(\"dplyr\")\n",
    "# vignette(package = \"dplyr\")\n",
    "# vignette(\"introduction\", package = \"dplyr\")\n",
    "# 各位同學可以嘗試閱讀 dplyr 套件的文件，了解其源流與用法\n",
    "library(dplyr)\n"
   ]
  },
  {
   "cell_type": "code",
   "execution_count": null,
   "metadata": {},
   "outputs": [],
   "source": [
    "# 我們將使用紐約機場起降的飛機資料來進行練習\n",
    "# install.packages(\"nycflights13\")\n",
    "library(nycflights13)"
   ]
  },
  {
   "cell_type": "code",
   "execution_count": null,
   "metadata": {},
   "outputs": [],
   "source": [
    "# 參閱 https://cran.r-project.org/web/packages/nycflights13/nycflights13.pdf\n",
    "# 會知道這個資料集中包含了 airlines, airports, flights, planes 以及 weather 等五個資料表\n",
    "# 首先針對 flights 資料表進行觀察\n",
    "# 請同學找出這個資料表共有多少筆、有哪些欄位、"
   ]
  },
  {
   "cell_type": "code",
   "execution_count": null,
   "metadata": {},
   "outputs": [],
   "source": [
    "# 首先我們介紹的是可以從資料表中依照條件過濾資料的 filter\n",
    "# 請嘗試下列指令\n",
    "filter(flights, month == 1, day == 1)\n",
    "\n",
    "# 上述指令會將資料表中所有 1 月 1 日 起降的班機取出"
   ]
  },
  {
   "cell_type": "code",
   "execution_count": null,
   "metadata": {},
   "outputs": [],
   "source": [
    "# 在 BaseR 會這樣下指令\n",
    "flights[flights$month == 1 & flights$day == 1,]"
   ]
  },
  {
   "cell_type": "code",
   "execution_count": null,
   "metadata": {},
   "outputs": [],
   "source": [
    "# 或者可以嘗試\n",
    "with(flights, flights[month == 1 & day == 1,])"
   ]
  },
  {
   "cell_type": "code",
   "execution_count": null,
   "metadata": {},
   "outputs": [],
   "source": [
    "# 請各位以 dplyr 以及 baseR 語法進行下列練習\n",
    "# 取出當年上半年度 (1 月 ~ 6 月的資料)"
   ]
  },
  {
   "cell_type": "code",
   "execution_count": null,
   "metadata": {},
   "outputs": [],
   "source": [
    "# 取出 7月 與 8 月中旬 (11 日到 20 日) 的資料"
   ]
  },
  {
   "cell_type": "code",
   "execution_count": null,
   "metadata": {},
   "outputs": [],
   "source": [
    "# 下列指令取出資料表中起飛時發生延遲 (dep_delay > 0) 的班機數量\n",
    "delayed <- filter(flights, dep_delay > 0)\n",
    "nrow(delayed)"
   ]
  },
  {
   "cell_type": "code",
   "execution_count": null,
   "metadata": {},
   "outputs": [],
   "source": [
    "# 請各位以 baseR 語法做同樣的事情，並且比較其結果"
   ]
  },
  {
   "cell_type": "code",
   "execution_count": null,
   "metadata": {},
   "outputs": [],
   "source": [
    "# 像是 grepl 這種條件式，也可以用於條件中字串的搜索\n",
    "# 請各位同學撈出資料表中班機編號 (tailnum) 以 \"AA\" 開頭的班機資料"
   ]
  },
  {
   "cell_type": "code",
   "execution_count": null,
   "metadata": {},
   "outputs": [],
   "source": [
    "# dplyr 可以用 slice 指令取出指定列數的資料\n",
    "slice(flights, 1000:2000)"
   ]
  },
  {
   "cell_type": "code",
   "execution_count": null,
   "metadata": {},
   "outputs": [],
   "source": [
    "# baseR 的寫法\n",
    "flights[1000:2000,]"
   ]
  },
  {
   "cell_type": "code",
   "execution_count": null,
   "metadata": {},
   "outputs": [],
   "source": [
    "# 請練習以 dplyr 語法以及 baseR 語法取出 flights 資料表中奇數列的資料"
   ]
  },
  {
   "cell_type": "code",
   "execution_count": null,
   "metadata": {},
   "outputs": [],
   "source": [
    "# 請練習以 dplyr 語法以集 baseR 語法取出 flights 資料表中 1000 到 2000 列 以及 2500 到 3500 列的資料"
   ]
  },
  {
   "cell_type": "code",
   "execution_count": null,
   "metadata": {},
   "outputs": [],
   "source": [
    "# arrange 可以將取出的資料依照指定欄位進行排序，請嘗試下列指令\n",
    "arrange(flights, month, day, dep_time)"
   ]
  },
  {
   "cell_type": "code",
   "execution_count": null,
   "metadata": {},
   "outputs": [],
   "source": [
    "# 在 baseR 中語法如下\n",
    "with(flights, flights[order(month, day, dep_time),])"
   ]
  },
  {
   "cell_type": "code",
   "execution_count": null,
   "metadata": {},
   "outputs": [],
   "source": [
    "# 請參閱 arrange 與 order 的 help，試著由大至小進行排序"
   ]
  },
  {
   "cell_type": "code",
   "execution_count": null,
   "metadata": {},
   "outputs": [],
   "source": [
    "# 請嘗試改動用來排序之欄位的順序，觀察如此排序後的資料表與先前之資料表有什麼區別"
   ]
  },
  {
   "cell_type": "code",
   "execution_count": null,
   "metadata": {},
   "outputs": [],
   "source": [
    "# 上述資料中第一列的 dep_time 為 517\n",
    "# 代表了 1 月 1 日 當天最早的班機是 5:17 起飛的\n",
    "# 那麼整個紀錄中起飛時刻最早是幾點呢？\n",
    "# 請同學參閱 min 函式的 help 並且找出來"
   ]
  },
  {
   "cell_type": "code",
   "execution_count": null,
   "metadata": {},
   "outputs": [],
   "source": [
    "# 假如我們只想觀察資料表中的部分欄位，那就要使用 select，請嘗試下列指令\n",
    "select(flights, month, day, dep_time)"
   ]
  },
  {
   "cell_type": "code",
   "execution_count": null,
   "metadata": {},
   "outputs": [],
   "source": [
    "# 如果使用 baseR 操作上述指令，要如何操作呢？"
   ]
  },
  {
   "cell_type": "code",
   "execution_count": null,
   "metadata": {},
   "outputs": [],
   "source": [
    "# select 有一些特別的方便功能，請各位嘗試\n",
    "select(flights, year:day)"
   ]
  },
  {
   "cell_type": "code",
   "execution_count": null,
   "metadata": {},
   "outputs": [],
   "source": [
    "select(flights, -(year:day))"
   ]
  },
  {
   "cell_type": "code",
   "execution_count": null,
   "metadata": {},
   "outputs": [],
   "source": [
    "# 請各位做個練習，分別以 dplyr 以及 baseR 語法取出 dep_time 中不是 NA 之資料列中，其班機起降的日期 (year, month, day)"
   ]
  },
  {
   "cell_type": "code",
   "execution_count": null,
   "metadata": {},
   "outputs": [],
   "source": [
    "# distinct 可以取出資料表中獨一無二的資料列，請各位嘗試下列指令\n",
    "distinct(select(flights, year:day))"
   ]
  },
  {
   "cell_type": "code",
   "execution_count": null,
   "metadata": {},
   "outputs": [],
   "source": [
    "#以 baseR 語法會比較麻煩一點\n",
    "ff.date = flights[, c(\"year\",\"month\",\"day\")]\n",
    "ff.date[!duplicated(ff.date),]"
   ]
  },
  {
   "cell_type": "code",
   "execution_count": null,
   "metadata": {},
   "outputs": [],
   "source": [
    "# mutate 指令可以以現有欄位進行計算，以產生新的屬性，請嘗試下列指令\n",
    "flights2 = flights\n",
    "mutate(flights2, gain = arr_delay - dep_delay)\n",
    "\n",
    "# 請注意，上述資料的新增，除非將其存入 flights2 資料表，否則並不會影響 flights2 資料表本身"
   ]
  },
  {
   "cell_type": "code",
   "execution_count": null,
   "metadata": {},
   "outputs": [],
   "source": [
    "# 使用 baseR 語法要做類似動作可以這樣子\n",
    "flights2 = flights\n",
    "colnames(flights2)\n",
    "\n",
    "flights2$gain = flights2$arr_delay - flights2$dep_delay\n",
    "\n",
    "colnames(flights2)"
   ]
  },
  {
   "cell_type": "code",
   "execution_count": null,
   "metadata": {},
   "outputs": [],
   "source": [
    "# sample_n, sample_frac 可以對資料表進行抽樣，請嘗試下列指令\n",
    "sample_n(flights, 1000)"
   ]
  },
  {
   "cell_type": "code",
   "execution_count": null,
   "metadata": {},
   "outputs": [],
   "source": [
    "sample_frac(flights, 0.01)"
   ]
  },
  {
   "cell_type": "code",
   "execution_count": null,
   "metadata": {},
   "outputs": [],
   "source": [
    "# 以 baseR 指令想要達成上述效果，需要使用 sample\n",
    "# 請各位同學參照 sample 的 help 並且嘗試下列指令\n",
    "flights[sample(1:nrow(flights), 1000),]"
   ]
  },
  {
   "cell_type": "code",
   "execution_count": null,
   "metadata": {},
   "outputs": [],
   "source": [
    "# 要如何以 sample 指令達成 dplyr 中 sample_frac 的效果呢？請各位同學練習看看"
   ]
  },
  {
   "cell_type": "code",
   "execution_count": null,
   "metadata": {},
   "outputs": [],
   "source": [
    "# 接下來介紹類似 SQL aggregation 功能，可以將資料整合計算的指令 summarise\n",
    "summarise(flights, mean(dep_delay, na.rm = TRUE))"
   ]
  },
  {
   "cell_type": "code",
   "execution_count": null,
   "metadata": {},
   "outputs": [],
   "source": [
    "# 這項指令並不能顯示 summarise 指令真正的威力，其真正的威力要搭配 group_by 指令才能發揮\n",
    "flights.month_grp = group_by(flights, month)\n",
    "summarise(flights.month_grp, mean(dep_delay, na.rm = TRUE))"
   ]
  },
  {
   "cell_type": "code",
   "execution_count": null,
   "metadata": {},
   "outputs": [],
   "source": [
    "# 請嘗試以航空公司為單位，計算其平均的起飛與降落遲延"
   ]
  },
  {
   "cell_type": "markdown",
   "metadata": {},
   "source": [
    "接下來我們跟同學介紹R 在2014年開始發展的一種寫法，稱作「pipeline operator」\n",
    "\n",
    "在剛剛的練習中，同學可能會寫出如：summarise(filter(flights, ...))的程式碼。 或是使用大量的暫存變數，如：a1 <- filter(flights, ...)以及a2 <- summarise(a1, ...)。 在整理資料的時候，我們常常要對數據做連續的操作（例如:先filter再進行summarise等）\n",
    "\n",
    "這時後，我們可能只能建立大量的暫存變數，如a1，a2，或者是寫出不好讀的程式碼， 如：summarise(filter(flights, ...))\n",
    "\n",
    "在dplyr中導入了magrittr在2014年的發明：pipeline operator，%>%。 %>%會將上一個函數的輸出，放到後面函數的第一個參數。 也就是說，上述的程式碼可以改寫成：filter(flights, ...) %>% summarise(...)。\n",
    "\n",
    "而%>%是可以串接的，所以實務上，我們就可以寫出：filter(flights, ...) %>% select(...) %>% mutate(...) %>% summarise。 每一個函數的輸出，都是下一個函數的第一個參數（也就是要進行處理的data.frame）。 所以這段程式碼中，filter的輸出就交給select處理後，再交給mutate，最後給summarise。"
   ]
  },
  {
   "cell_type": "code",
   "execution_count": null,
   "metadata": {},
   "outputs": [],
   "source": [
    "# 以 %>% 指令改寫 group_by, summarise 流程會十分簡單\n",
    "group_by(flights, month) %>%\n",
    "summarise(avg.dep_delay = mean(dep_delay, na.rm = TRUE))"
   ]
  },
  {
   "cell_type": "code",
   "execution_count": null,
   "metadata": {},
   "outputs": [],
   "source": [
    "# 這邊我們做一個練習，請問美國航空公司 (carrier == \"AA\")，其班機尾標是否都有 AA 字眼"
   ]
  },
  {
   "cell_type": "code",
   "execution_count": null,
   "metadata": {},
   "outputs": [],
   "source": [
    "# 請嘗試計算各航空公司，其不同時段 (0000-0559, 0600-1159, 1200-1759, 1800-2359) 之航班的平均起飛遲延、以及平均降落遲延"
   ]
  }
 ],
 "metadata": {
  "kernelspec": {
   "display_name": "R",
   "language": "R",
   "name": "ir"
  },
  "language_info": {
   "codemirror_mode": "r",
   "file_extension": ".r",
   "mimetype": "text/x-r-source",
   "name": "R",
   "pygments_lexer": "r",
   "version": "3.6.1"
  }
 },
 "nbformat": 4,
 "nbformat_minor": 2
}
