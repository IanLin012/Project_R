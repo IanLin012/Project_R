{
 "cells": [
  {
   "cell_type": "markdown",
   "metadata": {},
   "source": [
    "R 語言資料視覺化\n",
    "\n",
    "以下教材部分出自 Wush Wu 所編寫之 R 語言翻轉教室\n",
    "\n",
    "本 Lab 的目的，是讓同學理解如何依據數據的型態，視覺化呈現數據"
   ]
  },
  {
   "cell_type": "code",
   "execution_count": null,
   "metadata": {},
   "outputs": [],
   "source": [
    "# 首先請參閱 plot 函式的說明"
   ]
  },
  {
   "cell_type": "markdown",
   "metadata": {},
   "source": [
    "plot 主要有兩個參數：x 和 y\n",
    "\n",
    "一般而言 x 代表以橫軸 (x 軸) 呈現的資料， y 代表以縱軸 (y 軸) 呈現的資料\n",
    "\n",
    "然而實際上，並不僅於此\n",
    "\n",
    "plot 是個會依據 x 和 y 的型態不同，而有不同行為的函數"
   ]
  },
  {
   "cell_type": "markdown",
   "metadata": {},
   "source": [
    "首先，我們拿R 的內建的infert資料集為範例\n",
    "\n",
    "這是研究流產與不孕症之間關係的資料集\n",
    "\n",
    "infert的第一欄 (education) 代表該名婦女的教育程度；\n",
    "第二欄 (age) 代表年齡；\n",
    "第三欄 (parity) 代表已經生產的子女數（經產狀況）；\n",
    "第四欄 (induced) 代表人工流產的次數；\n",
    "第五欄 (case) 代表是實驗組或是對照組（是否為不孕）；\n",
    "第六欄 (spontaneous) 代表自然流產的次數；\n",
    "第七欄與第八欄則是與實驗設計相關的資料。"
   ]
  },
  {
   "cell_type": "code",
   "execution_count": null,
   "metadata": {},
   "outputs": [],
   "source": [
    "# 請以 head 指令稍微觀察資料"
   ]
  },
  {
   "cell_type": "code",
   "execution_count": null,
   "metadata": {},
   "outputs": [],
   "source": [
    "# 請將 infert 資料表中的 spontaneous 欄位存入 spon 變數中\n",
    "# 並且以程式碼回答 spon 是什麼資料型態？"
   ]
  },
  {
   "cell_type": "code",
   "execution_count": null,
   "metadata": {},
   "outputs": [],
   "source": [
    "# 輸入 \n",
    "plot(spon)"
   ]
  },
  {
   "cell_type": "markdown",
   "metadata": {},
   "source": [
    "plot 主要的參數有 x 與 y 用來呈現兩個維度的資料\n",
    "\n",
    "然而倘若輸入的資料只有一個數值或整數向量\n",
    "\n",
    "該向量的值會被當作 y 軸座標，而對應的 x 軸座標則為資料的順序 (index)"
   ]
  },
  {
   "cell_type": "code",
   "execution_count": null,
   "metadata": {},
   "outputs": [],
   "source": [
    "# plot(spon) 可以幫助我們觀察 spon 是否和資料的順序有相關性\n",
    "# 此相關性除了目視觀察外也可以用 cor(1:length(spon), spon) 取得"
   ]
  },
  {
   "cell_type": "code",
   "execution_count": null,
   "metadata": {},
   "outputs": [],
   "source": [
    "# 轉換數據型態\n",
    "spon <- factor(spon)\n",
    "plot(spon)"
   ]
  },
  {
   "cell_type": "markdown",
   "metadata": {},
   "source": [
    "若輸入的資料只有一個類別 (logical/factor) 或字串向量\n",
    "\n",
    "該向量中各類別 (字串) 的數量會被當作 y 軸的值，而對應的 x 軸座標則為相對應的類別/字串"
   ]
  },
  {
   "cell_type": "code",
   "execution_count": null,
   "metadata": {},
   "outputs": [],
   "source": [
    "# 請輸入 table(spon) 也可以得到相同的資訊"
   ]
  },
  {
   "cell_type": "markdown",
   "metadata": {},
   "source": [
    "根據說明 spon 的 2 代表「兩次或以上」，所以 spon 屬於 Ordinal 資料而非 Interval 資料"
   ]
  },
  {
   "cell_type": "code",
   "execution_count": null,
   "metadata": {},
   "outputs": [],
   "source": [
    "#另外一種常用的圖形是圓餅圖。請輸入 \n",
    "pie(table(spon))"
   ]
  },
  {
   "cell_type": "markdown",
   "metadata": {},
   "source": [
    "圓餅圖利用面積與角度，告訴我們數據分佈的比率\n",
    "\n",
    "由圖中可以明顯看出，\"0\"類別的個數佔了整體數據的一半\n",
    "\n",
    "R 的 `pie` 函式是需要名字與個數比率的，所以需要先利用`table`計算每個類別的個數，再將`table`的結果傳遞給`pie`做使用"
   ]
  },
  {
   "cell_type": "code",
   "execution_count": null,
   "metadata": {},
   "outputs": [],
   "source": [
    "# 請以 plot 描繪 infert 資料表中的 age 欄位\n",
    "# 請以程式碼回答 age 欄位是什麼型態？\n",
    "# 請以 plot 觀察 age 欄位與資料順序是否相關？\n",
    "plot(infert$age)"
   ]
  },
  {
   "cell_type": "code",
   "execution_count": null,
   "metadata": {},
   "outputs": [],
   "source": [
    "# 直接以 plot 繪圖預設的是散佈圖\n",
    "# 以 plot(infert$age, type = \"l\") 可以畫出折線圖\n",
    "# 從折線圖中可以看出什麼趨勢嘛？"
   ]
  },
  {
   "cell_type": "code",
   "execution_count": null,
   "metadata": {},
   "outputs": [],
   "source": [
    "# 如若想要觀察數值資料的數據分佈，常常會使用直方圖\n",
    "# 請輸入 x <- hist(infert$age)\n",
    "x <- hist(infert$age)"
   ]
  },
  {
   "cell_type": "code",
   "execution_count": null,
   "metadata": {},
   "outputs": [],
   "source": [
    "# 由於我們將 hist(age) 的輸出指入變數 x\n",
    "# 因此可以直接觀察 x 的內容，了解繪圖的細節\n",
    "# \"breaks\"的切點記載了直方圖的切割點\n",
    "# 請由`$breaks`(也就是`x$breaks`)的值，回答問題樣本數最高的年齡層為何?"
   ]
  },
  {
   "cell_type": "markdown",
   "metadata": {},
   "source": [
    "`hist(age)` 就是將 `age` 透過 `x$breaks` 切成一段一段\n",
    "\n",
    "變成順序尺度的數據之後，再用類似剛剛我們繪製 `spon` 的方式做呈現"
   ]
  },
  {
   "cell_type": "code",
   "execution_count": null,
   "metadata": {},
   "outputs": [],
   "source": [
    "# 使用 cut 函式，可以將資料分段\n",
    "# 請參照 cut 函式的說明，說明 cut(1:10, 2:4) 的輸出結果\n",
    "#seq(1,10,2)\n",
    "#cut(1:10, seq(1,10,2))\n",
    "\n",
    "age <- 1:100\n",
    "cut(age, c(0,18,25,40,65,200))\n"
   ]
  },
  {
   "cell_type": "code",
   "execution_count": null,
   "metadata": {},
   "outputs": [],
   "source": [
    "# 下列結果如何呢？\n",
    "# 與使用 hist 有什麼區別呢？\n",
    "plot(cut(infert$age, breaks = x$breaks))"
   ]
  },
  {
   "cell_type": "code",
   "execution_count": null,
   "metadata": {},
   "outputs": [],
   "source": [
    "# 請嘗試下列指令 plot(cut(infert$age, breaks = quantile(infert$age)))\n",
    "# 請參閱 quantile 的 help，說明這張圖是怎麼回事"
   ]
  },
  {
   "cell_type": "code",
   "execution_count": null,
   "metadata": {},
   "outputs": [],
   "source": [
    "# 請觀察 infert$education\n",
    "# 有發現什麼嘛？\n",
    "infert$education"
   ]
  },
  {
   "cell_type": "code",
   "execution_count": null,
   "metadata": {},
   "outputs": [],
   "source": [
    "# 請輸入 plot(density(infert$age))\n",
    "# 看到了什麼圖形呢？與 hist 函式的輸出有什麼不同？\n",
    "plot(density(infert$age))"
   ]
  },
  {
   "cell_type": "markdown",
   "metadata": {},
   "source": [
    "使用 density 製圖可以幫助我們觀察數據分佈的尖峰與偏態"
   ]
  },
  {
   "cell_type": "code",
   "execution_count": null,
   "metadata": {},
   "outputs": [],
   "source": [
    "# 使用 density 函式觀察資料，對於 bw 參數的設定非常重要\n",
    "# 請嘗試以\n",
    "plot(density(age, bw = 0.1))\n",
    "plot(density(age, bw = 1))\n",
    "plot(density(age, bw = \"SJ\"))\n",
    "# 並且比較三張圖有什麼不同"
   ]
  },
  {
   "cell_type": "code",
   "execution_count": null,
   "metadata": {},
   "outputs": [],
   "source": [
    "# 下列指令會看到什麼圖形呢？與 density 函式的輸出有什麼不同？\n",
    "plot(ecdf(infert$age))\n"
   ]
  },
  {
   "cell_type": "markdown",
   "metadata": {},
   "source": [
    "時間序列作圖"
   ]
  },
  {
   "cell_type": "code",
   "execution_count": null,
   "metadata": {},
   "outputs": [],
   "source": [
    "# 請利用上述經驗觀察 sunspot.year\n",
    "# 這是1700年至1988年，每年的太陽黑子數量資料"
   ]
  },
  {
   "cell_type": "code",
   "execution_count": null,
   "metadata": {},
   "outputs": [],
   "source": [
    "# sunspot.year 是一種特殊的資料型態 Time Series 時間序列資料\n",
    "# 其資料點的順序與時間有關，觀察資料的重點在於尋找週期變化\n",
    "# 我們取出最後 100 筆數據觀察\n",
    "x <- tail(sunspot.year, 100)\n",
    "# x 的資料型態與 sunspot.year 是否相同呢？"
   ]
  },
  {
   "cell_type": "code",
   "execution_count": null,
   "metadata": {},
   "outputs": [],
   "source": [
    "# 請依序輸入\n",
    "plot(x) # 畫出散布圖\n",
    "lines(x) # 將點連接起來，此為低階繪圖函式"
   ]
  },
  {
   "cell_type": "code",
   "execution_count": null,
   "metadata": {},
   "outputs": [],
   "source": [
    "# 調色\n",
    "# 請嘗試 lines(x, col = \"red\")\n",
    "# 色盤請參照 http://www.stat.columbia.edu/~tzheng/files/Rcolor.pdf"
   ]
  },
  {
   "cell_type": "code",
   "execution_count": null,
   "metadata": {},
   "outputs": [],
   "source": [
    "# 加粗\n",
    "# 請嘗試 lines(x, lwd = 2)"
   ]
  },
  {
   "cell_type": "code",
   "execution_count": null,
   "metadata": {},
   "outputs": [],
   "source": [
    "# 改變線的型態\n",
    "# 請嘗試 lines(x, lty = 3, lwd = 3, col = 2)"
   ]
  },
  {
   "cell_type": "code",
   "execution_count": null,
   "metadata": {},
   "outputs": [],
   "source": [
    "# 以下指令可以畫出lty的數字與畫圖後的結果\n",
    "showLty <- function(ltys, xoff = 0, ...) {\n",
    "    stopifnot((n <- length(ltys)) >= 1)\n",
    "    op <- par(mar = rep(.5,4)); on.exit(par(op))\n",
    "    plot(0:1, 0:1, type = \"n\", axes = FALSE, ann = FALSE)\n",
    "    y <- (n:1)/(n+1)\n",
    "    clty <- as.character(ltys)\n",
    "    mytext <- function(x, y, txt)\n",
    "      text(x, y, txt, adj = c(0, -.3), cex = 0.8, ...)\n",
    "    abline(h = y, lty = ltys, ...); mytext(xoff, y, clty)\n",
    "    y <- y - 1/(3*(n+1))\n",
    "    abline(h = y, lty = ltys, lwd = 2, ...)\n",
    "    mytext(1/8+xoff, y, paste(clty,\" lwd = 2\"))\n",
    "  }\n",
    "  showLty(1:6)"
   ]
  },
  {
   "cell_type": "code",
   "execution_count": null,
   "metadata": {},
   "outputs": [],
   "source": [
    "# 請嘗試 plot(x, type = \"o\")"
   ]
  },
  {
   "cell_type": "code",
   "execution_count": null,
   "metadata": {},
   "outputs": [],
   "source": [
    "# 可以利用下列指令將圖形輸出\n",
    "png(\"temp.png\")\n",
    "plot(x, type = \"o\")\n",
    "dev.off()"
   ]
  },
  {
   "cell_type": "code",
   "execution_count": null,
   "metadata": {},
   "outputs": [],
   "source": [
    "# y 軸座標更改\n",
    "plot(x, main = \"sunspot\",\n",
    "     xaxt = \"n\", \n",
    "     yaxt = \"n\") # 刪除預設之 x, y 座標軸\n",
    "# 加入新的 y 座標軸\n",
    "axis(2, at = seq(10, 200, 10), labels = seq(10, 200, 10))\n",
    "lines(x, lty = 3)"
   ]
  },
  {
   "cell_type": "markdown",
   "metadata": {},
   "source": [
    "`hsb`是一批事先準備好的資料，裡面記載了學生的基礎資料以及學生在各個科目的考試成績\n",
    "\n",
    "本資料包含11個欄位、200筆記錄（200位學生）\n",
    "\n",
    "第一欄(id)代表該名學生的編號；\n",
    "第二欄(sex)代表學生性別；\n",
    "第三欄(race)代表學生的種族；\n",
    "第四欄(ses)代表學生家庭社經等級；\n",
    "第五欄(schtyp)代表是學校是公立或私立；\n",
    "第六欄(prog)代表學校的類型；\n",
    "第七欄至第十一欄則是各科考試成績。"
   ]
  },
  {
   "cell_type": "code",
   "execution_count": null,
   "metadata": {},
   "outputs": [],
   "source": [
    "# 資料在 data/hsb.csv 中請將其 load 進環境中，存入 hsb 變數中\n",
    "# 並回答下列問題\n",
    "# write 資料是否有集中的趨勢呢？是否有異常值呢？\n",
    "# 資料中學生的性別是否均衡呢？\n",
    "# 還有什麼其他發現嘛？"
   ]
  },
  {
   "cell_type": "markdown",
   "metadata": {},
   "source": [
    "以圓餅圖對單一資料進行視覺化"
   ]
  },
  {
   "cell_type": "code",
   "execution_count": null,
   "metadata": {},
   "outputs": [],
   "source": [
    "# 先建立sex物件\n",
    "sex <- table(hsb$sex)\n",
    "# 改顏色\n",
    "col <- rainbow(length(sex)) # 利用rainbow函數產生若干種不同的色系\n",
    "#pie(sex, main = \"Sex\", col = col)\n",
    "# 加上比率\n",
    "pct <- sex / sum(sex) * 100 # 計算百分比\n",
    "label <- paste0(names(sex), \" \", pct, \"%\") # 產生說明文字\n",
    "pie(sex, main = \"Sex\", col = col, labels = label)"
   ]
  },
  {
   "cell_type": "code",
   "execution_count": null,
   "metadata": {},
   "outputs": [],
   "source": [
    "以直方圖對單一資料進行視覺化"
   ]
  },
  {
   "cell_type": "code",
   "execution_count": null,
   "metadata": {},
   "outputs": [],
   "source": [
    "# 先建立math物件\n",
    "math <- hsb$math\n",
    "hist(math, main = \"Histogram of math!\", \n",
    "     xlab = \"Value of math\", ylab = \"frequency\", \n",
    "     col = \"blue\")\n",
    "# 圖標\n",
    "legend(\"topright\", \"test\")\n",
    "# 改變切割點\n",
    "#hist(math, breaks = 2)\n",
    "#hist(math, breaks = 10)\n",
    "#hist(math, breaks = 20)"
   ]
  },
  {
   "cell_type": "markdown",
   "metadata": {},
   "source": [
    "機率密度函數圖範例，可以嘗試註解/修改部份程式碼觀察變化"
   ]
  },
  {
   "cell_type": "code",
   "execution_count": null,
   "metadata": {},
   "outputs": [],
   "source": [
    "math <- hsb$math\n",
    "math.sj <- density(math, bw = \"SJ\")\n",
    "plot(math.sj, lwd = 5, lty = 2, col = \"blue\",\n",
    "    main = \"math\", xlab = \"math\")\n",
    "# 對線之下的面積著色\n",
    "polygon(math.sj, col = \"red\") # 這是一個低階繪圖函數"
   ]
  },
  {
   "cell_type": "markdown",
   "metadata": {},
   "source": [
    "除了觀察單一資料以外，資料視覺化也經常用於觀察資料與資料間的關係"
   ]
  },
  {
   "cell_type": "code",
   "execution_count": null,
   "metadata": {},
   "outputs": [],
   "source": [
    "# Part A：類別欄位 vs.類別欄位的資料視覺化\n",
    "# 首先來觀察資料中學生性別 (sex) 與公私立 (schtyp) 學校的關聯\n",
    "# 請輸入並且執行下列指令\n",
    "tab1 <- table(hsb$sex, hsb$schtyp)\n",
    "barplot(tab1, legend = TRUE)\n",
    "# 從中我們看到什麼嘛？\n",
    "# 公私立學校各自的男女比例為何？"
   ]
  },
  {
   "cell_type": "code",
   "execution_count": null,
   "metadata": {},
   "outputs": [],
   "source": [
    "# 嘗試另一種畫法\n",
    "barplot(tab1, legend=TRUE, beside = TRUE, args.legend=list(x=3, y=90))"
   ]
  },
  {
   "cell_type": "code",
   "execution_count": null,
   "metadata": {},
   "outputs": [],
   "source": [
    "# Part B：類別欄位 vs. 類別欄位 vs. 單一數值的資料視覺化\n",
    "library(dplyr)\n",
    "# 利用下列函式計算分組平均\n",
    "dat2 <- summarise(group_by(hsb, sex, schtyp), math.avg=mean(math))\n",
    "# 利用R 預設的`xtabs`函數，將變數`dat2`轉換成交叉`tab2`表\n",
    "tab2 <- xtabs(formula = math.avg ~ sex + schtyp , data = dat2)"
   ]
  },
  {
   "cell_type": "markdown",
   "metadata": {},
   "source": [
    "我們可以使用`?xtabs`，透過說明文件來理解`formula`參數的意義\n",
    "\n",
    "`formula`是R 語言中一個特別的物件型態，常被用來描述欄位與欄位之間的模型關係。\n",
    "\n",
    "在本例中，波浪符號`~`的左邊欄位代表應填入交叉表內的值 (數值型態)， 而波浪符號右邊的欄位則是交叉表的類型 (類別型態)，波浪符號右邊的欄位則以加號`+`作為連結。\n",
    "\n",
    "有關於其他`formula`物件的使用方式可參考線性模型函數的說明文件`?lm`。"
   ]
  },
  {
   "cell_type": "code",
   "execution_count": null,
   "metadata": {},
   "outputs": [],
   "source": [
    "# 請針對 tab2 繪製分組長條圖\n",
    "barplot(tab2, beside = TRUE)"
   ]
  },
  {
   "cell_type": "code",
   "execution_count": null,
   "metadata": {},
   "outputs": [],
   "source": [
    "# 感覺差距不是很明顯，嘗試加入 ylim = c(50, 58) 以及 xpd = FALSE \n",
    "# 觀察視覺上的差異"
   ]
  },
  {
   "cell_type": "code",
   "execution_count": null,
   "metadata": {},
   "outputs": [],
   "source": [
    "# Part C：類別欄位 vs. 單一數值的資料視覺化\n",
    "# 以下列指令計算各種族學生 (race) 的閱讀成績中位數 (`read.med=median(read)`)\n",
    "# 並且繪製長條圖\n",
    "dat3 <- summarise(group_by(hsb, race), read.med=median(read))\n",
    "barplot(dat3$read.med, names.arg=dat3$race, horiz = TRUE)"
   ]
  },
  {
   "cell_type": "code",
   "execution_count": null,
   "metadata": {},
   "outputs": [],
   "source": [
    "# 相同的資料，以點標圖呈現\n",
    "dotchart(dat3$read.med, labels = dat3$race)"
   ]
  },
  {
   "cell_type": "code",
   "execution_count": null,
   "metadata": {},
   "outputs": [],
   "source": [
    "# Part D：類別欄位 vs. 數值欄位的資料視覺化\n",
    "# 當試圖觀察每一種類別對應的數值分佈而非整理後的數值時，應使用箱形圖 (box plot) 進行視覺化\n",
    "# 譬如各種族學生的閱讀成績之分布\n",
    "plot(math ~ race, data=hsb)"
   ]
  },
  {
   "cell_type": "markdown",
   "metadata": {},
   "source": [
    "傳統上，繪製箱形圖會使用`boxplot`函數\n",
    "\n",
    "現今的R版本已經可以支援高階繪圖函數`plot`，透過`formula`的控制來繪製箱型圖。\n",
    "\n",
    "(請注意波浪符號`~`左邊放數值型態的欄位，右邊放類別型態的欄位，並用加號`+`做連結)，\n",
    "\n",
    "關於箱型圖詳細的控制參數，請使用`?boxplot`閱讀說明文件"
   ]
  },
  {
   "cell_type": "code",
   "execution_count": null,
   "metadata": {},
   "outputs": [],
   "source": [
    "# 更多的參數變換\n",
    "boxplot(math ~ schtyp, data=hsb, col=c(\"darkblue\", \"gold\"))\n",
    "legend(\"topleft\", c(\"private\", \"public\"), fill=c(\"darkblue\", \"gold\"))\n",
    "\n",
    "# 從這張圖可以判斷公私立學校何者的學生成績較好嗎？"
   ]
  },
  {
   "cell_type": "code",
   "execution_count": null,
   "metadata": {},
   "outputs": [],
   "source": [
    "# 用 quantile 了解分佈數值\n",
    "quantile(hsb$math[hsb$schtyp == \"private\"])\n",
    "quantile(hsb$math[hsb$schtyp == \"public\"])"
   ]
  },
  {
   "cell_type": "code",
   "execution_count": null,
   "metadata": {},
   "outputs": [],
   "source": [
    "# 用 ecdf 觀察分佈差異\n",
    "plot(ecdf(hsb$math[hsb$schtyp == \"private\"]), col = \"darkblue\")\n",
    "lines(ecdf(hsb$math[hsb$schtyp == \"public\"]), col = \"gold\")"
   ]
  },
  {
   "cell_type": "code",
   "execution_count": null,
   "metadata": {},
   "outputs": [],
   "source": [
    "ks.test(hsb$math[hsb$schtyp == \"private\"], hsb$math[hsb$schtyp == \"public\"])"
   ]
  },
  {
   "cell_type": "code",
   "execution_count": null,
   "metadata": {},
   "outputs": [],
   "source": [
    "?ks.test"
   ]
  },
  {
   "cell_type": "code",
   "execution_count": null,
   "metadata": {},
   "outputs": [],
   "source": [
    "# Part E：數值欄位 vs. 數值欄位的資料視覺化\n",
    "# 要繪製兩個數值型欄位，最簡單的圖形就是散佈圖 (scatter plot)\n",
    "plot(x=hsb$math, y=hsb$read)"
   ]
  },
  {
   "cell_type": "code",
   "execution_count": null,
   "metadata": {},
   "outputs": [],
   "source": [
    "#由散佈圖可以發現，學生的數學與閱讀成績呈現正相關，即數學成績越高，閱讀成績越高，反之亦然\n",
    "# 使用 cor 函式可以計算兩者的相關係數，證實上述說法"
   ]
  },
  {
   "cell_type": "code",
   "execution_count": null,
   "metadata": {},
   "outputs": [],
   "source": [
    "# 使用 formula 格式繪圖\n",
    "plot(read ~ math, data=hsb)"
   ]
  },
  {
   "cell_type": "code",
   "execution_count": null,
   "metadata": {},
   "outputs": [],
   "source": [
    "# 另一種 formula 格式\n",
    "plot(~ read + math, data=hsb)"
   ]
  },
  {
   "cell_type": "code",
   "execution_count": null,
   "metadata": {},
   "outputs": [],
   "source": [
    "# 欄位數大於 2 時，可以利用 formula 來進行繪圖\n",
    "plot(~read+math+science+socst,data=hsb, main=\"HSB score\")"
   ]
  },
  {
   "cell_type": "code",
   "execution_count": null,
   "metadata": {},
   "outputs": [],
   "source": [
    "# Part F：數值欄位 vs. 數值欄位 vs. 類別欄位的資料視覺化\n",
    "# 當欲進行資料探索的欄位大於兩個維度時，可以對散佈圖做進一步的加工，\n",
    "# 譬如改變點的顏色 (`col`) 、形狀 (`pch`) 或大小 (`cex`)\n",
    "col.sex <- ifelse(hsb$sex==\"male\", \"blue\", \"red\")\n",
    "pch.schtyp <- ifelse(hsb$schtyp==\"public\", 1, 19)\n",
    "cex.science <- (hsb$science-25)/(50)*5\n",
    "plot(~read+math, data=hsb, col=col.sex, pch=pch.schtyp, cex=cex.science)"
   ]
  },
  {
   "cell_type": "code",
   "execution_count": null,
   "metadata": {},
   "outputs": [],
   "source": []
  }
 ],
 "metadata": {
  "kernelspec": {
   "display_name": "R",
   "language": "R",
   "name": "ir"
  },
  "language_info": {
   "codemirror_mode": "r",
   "file_extension": ".r",
   "mimetype": "text/x-r-source",
   "name": "R",
   "pygments_lexer": "r",
   "version": "3.6.1"
  }
 },
 "nbformat": 4,
 "nbformat_minor": 4
}
