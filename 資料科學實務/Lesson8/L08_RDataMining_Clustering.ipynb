{
 "cells": [
  {
   "cell_type": "markdown",
   "metadata": {
    "collapsed": true
   },
   "source": [
    "這個 Lab 會引導各位使用 R 中常用的三種Clustering算法\n",
    "\n",
    "第一種是Hierarchical Clustering\n",
    "\n",
    "第二種是K-means\n",
    "\n",
    "第三種是套件fpc 提供的Density Based Clustering演算法。"
   ]
  },
  {
   "cell_type": "code",
   "execution_count": null,
   "metadata": {},
   "outputs": [],
   "source": [
    "# 第一個要介紹的是 Hierarchical Clustering 演算法\n",
    "# 請各位同學參閱 hclust 的 help"
   ]
  },
  {
   "cell_type": "code",
   "execution_count": null,
   "metadata": {},
   "outputs": [],
   "source": [
    "# hclust這個函數是用來計算Hierarchical Clustring\n",
    "# 其參數共有三個。而第一個參數d 則是用來接受用 dist指令所建立的距離矩陣\n",
    "# 作為範例，我們這邊已 iris 資料中其中的六筆建立距離矩陣\n",
    "d <- dist(iris[c(1:2, 51:52, 101:102),1:4])\n",
    "\n",
    "# 請各位同學參閱 dist 的 help 並且說明這六筆資料的距離是如何計算的？"
   ]
  },
  {
   "cell_type": "code",
   "execution_count": null,
   "metadata": {},
   "outputs": [],
   "source": [
    "# 看看 d 的模樣\n",
    "d"
   ]
  },
  {
   "cell_type": "code",
   "execution_count": null,
   "metadata": {},
   "outputs": [],
   "source": [
    "# 以 hierarchical clustering 演算法分群，然後將分群結果描繪出來\n",
    "hc <- hclust(d)\n",
    "plot(hc)\n",
    "rect.hclust(hc, 3)"
   ]
  },
  {
   "cell_type": "code",
   "execution_count": null,
   "metadata": {},
   "outputs": [],
   "source": [
    "# 請各位同學對照距離矩陣與 hclust 的聚類結果\n",
    "# 解釋 hclust 是如何聚類的"
   ]
  },
  {
   "cell_type": "code",
   "execution_count": null,
   "metadata": {},
   "outputs": [],
   "source": [
    "# 使用下列指令，可以將上述結果分成三群\n",
    "cl.hc <- cutree(hc, k = 3)\n",
    "\n",
    "# 請觀察分出了哪三群，是否與上面 rect.hclust 描繪的一樣\n",
    "# 請嘗試以 hclust 分群 iris 資料表中的所有資料，並且與 iris$Species 比較"
   ]
  },
  {
   "cell_type": "markdown",
   "metadata": {},
   "source": [
    "接下來我們來嘗是最泛用的 centric-based clustering 演算法 kmeans"
   ]
  },
  {
   "cell_type": "code",
   "execution_count": null,
   "metadata": {},
   "outputs": [],
   "source": [
    "cl.km <- kmeans(iris[,1:4], centers = 3)"
   ]
  },
  {
   "cell_type": "code",
   "execution_count": null,
   "metadata": {},
   "outputs": [],
   "source": [
    "# 請觀察聚類結果，並且與 hclust 的結果相比較"
   ]
  },
  {
   "cell_type": "code",
   "execution_count": null,
   "metadata": {},
   "outputs": [],
   "source": [
    "install.packages(\"fpc\")\n",
    "library(fpc)"
   ]
  },
  {
   "cell_type": "markdown",
   "metadata": {},
   "source": [
    "fpc 套件中的 dbscan 是一種不須指定聚類數\n",
    "\n",
    "藉由設定同聚類內各項目的最短距離進行聚類的演算法\n",
    "\n",
    "參閱 dbscan 的文件，會發現，dbscan 同樣需要先計算距離矩陣，然後進行聚類\n",
    "\n",
    "事實上，Cluster的核心之一，就是如何計算資料點之間的距離\n",
    "\n",
    "除了常用的歐式距離(Euclidean distance)之外\n",
    "\n",
    "我們也能用dist搭配其他計算距離的演算法來建構距離矩陣，再使用Cluster演算法"
   ]
  },
  {
   "cell_type": "markdown",
   "metadata": {},
   "source": [
    "dbscan中最重要的兩個參數就是 eps 和 MinPts\n",
    "\n",
    "各位可以參考 &lt;https: dbscan#preliminary=\"\" en.wikipedia.org=\"\" wiki=\"\"&gt; \n",
    "\n",
    "理解eps（圖中的圓圈半徑）和 MinPts（要多少點聚集在一起才能成為一個Cluster的一部分）&lt;/https:&gt;"
   ]
  },
  {
   "cell_type": "code",
   "execution_count": null,
   "metadata": {},
   "outputs": [],
   "source": [
    "cl.db <- dbscan(iris[,1:4], 0.42)"
   ]
  },
  {
   "cell_type": "code",
   "execution_count": null,
   "metadata": {},
   "outputs": [],
   "source": [
    "# 請各位同學比較 dbscan 與上述另外兩種聚類演算法的聚類結果\n",
    "# dbscan 聚類結果中的 0 是什麼意思？"
   ]
  },
  {
   "cell_type": "code",
   "execution_count": null,
   "metadata": {},
   "outputs": [],
   "source": [
    "# 練習\n",
    "#' 請同學先安裝 mlbench 這個套件後進行這份作業\n",
    "library(mlbench)\n",
    "\n",
    "set.seed(1)\n",
    "shapes <- mlbench.shapes(500)\n",
    "table(shapes$classes)\n",
    "d.shapes <- dist(shapes$x)"
   ]
  },
  {
   "cell_type": "code",
   "execution_count": null,
   "metadata": {},
   "outputs": [],
   "source": [
    "# 練習\n",
    "# 請使用 hclust 的預設參數，最終產生一個有4群的cluster結果\n",
    "hc <- hclust(d.shapes)"
   ]
  },
  {
   "cell_type": "code",
   "execution_count": null,
   "metadata": {},
   "outputs": [],
   "source": [
    "# 請使用 kmeans 和以下的centers參數得到cluster結果\n",
    "# centers = shapes$x[c(1,126,251, 376),]"
   ]
  },
  {
   "cell_type": "code",
   "execution_count": null,
   "metadata": {},
   "outputs": [],
   "source": [
    "# 請比較假如不設定中心，讓 kmeans 自行學出聚類質心，質心與聚類結果的差異"
   ]
  },
  {
   "cell_type": "code",
   "execution_count": null,
   "metadata": {},
   "outputs": [],
   "source": [
    "# 請使用dbscan和參數 eps = 0.5 來建立 cluster 結果"
   ]
  }
 ],
 "metadata": {
  "kernelspec": {
   "display_name": "R",
   "language": "R",
   "name": "ir"
  },
  "language_info": {
   "codemirror_mode": "r",
   "file_extension": ".r",
   "mimetype": "text/x-r-source",
   "name": "R",
   "pygments_lexer": "r",
   "version": "3.6.1"
  }
 },
 "nbformat": 4,
 "nbformat_minor": 2
}
