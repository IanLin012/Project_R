{
 "cells": [
  {
   "cell_type": "markdown",
   "metadata": {},
   "source": [
    "R 語言基礎資料結構 2\n",
    "\n",
    "以下教材部分出自 Wush Wu 所編寫之 R 語言翻轉教室\n",
    "\n",
    "R 語言中，所有的資料都是以向量形式儲存\n",
    "\n",
    "也就是說 R 語言的資料沒有單一的資料型態，只有長度為 1 的向量\n"
   ]
  },
  {
   "cell_type": "code",
   "execution_count": null,
   "metadata": {},
   "outputs": [],
   "source": [
    "# class 函式與 mode 函式都可以用來了解某個資料向量的類別\n",
    "# class 函式透露的是使用者自訂的類別\n",
    "# 而 mode 函式，則透露了向量底層是以什麼方式儲存的\n",
    "class(\"FCU\")\n",
    "mode(\"FCU\")"
   ]
  },
  {
   "cell_type": "code",
   "execution_count": null,
   "metadata": {},
   "outputs": [],
   "source": [
    "class(1L)\n",
    "mode(1L)"
   ]
  },
  {
   "cell_type": "code",
   "execution_count": null,
   "metadata": {},
   "outputs": [],
   "source": [
    "g <- lm(dist ~ speed, cars) \n",
    "class(g)\n",
    "mode(g)"
   ]
  },
  {
   "cell_type": "code",
   "execution_count": null,
   "metadata": {},
   "outputs": [],
   "source": [
    "# 參閱 mode 的 help\n",
    "# 請回答 R 內建的資料，其底層有幾種儲存型式？"
   ]
  },
  {
   "cell_type": "markdown",
   "metadata": {},
   "source": [
    "list 是所謂「R 物件的向量」\n",
    "\n",
    "這裡要特別強調「向量」的概念，因為list是有順序性的。"
   ]
  },
  {
   "cell_type": "code",
   "execution_count": null,
   "metadata": {},
   "outputs": [],
   "source": [
    "# 我們可以用 list() 函式來建立自訂的 list\n",
    "my.list = list(iris = iris, cars = cars, n = 2)\n",
    "\n",
    "# 然後以 str 函式來觀察其結構\n",
    "str(my.list)"
   ]
  },
  {
   "cell_type": "code",
   "execution_count": null,
   "metadata": {},
   "outputs": [],
   "source": [
    "# 在建立的過程中，因為 iris 在前面，所以是向量中的第一個元素(element)\n",
    "# 而 cars 跟在 iris 後面，所以是第二個 element。\n",
    "# 我們可以利用兩個中括號 [[]] 來取出 R 物件向量中各 element 的內容，如\n",
    "my.list[[3]]"
   ]
  },
  {
   "cell_type": "code",
   "execution_count": null,
   "metadata": {},
   "outputs": [],
   "source": [
    "# my.list[[3]] 的類別為何？\n",
    "# my.list[2] 的類別又為何？\n",
    "# 為什麼會有差異？"
   ]
  },
  {
   "cell_type": "code",
   "execution_count": null,
   "metadata": {},
   "outputs": [],
   "source": [
    "# 請嘗試以下列指令再建立一個 list\n",
    "my.list2 <- list(iris, cars, 2)\n",
    "\n",
    "# 請以 str 指令比較 my.list 與 my.list2 有什麼不同？"
   ]
  },
  {
   "cell_type": "markdown",
   "metadata": {},
   "source": [
    "list的元素除了用位置做選取之外 (如：my.list[[3]])\n",
    "\n",
    "也可以用名字做選取，在我們建立 my.list 時，其指令為 my.list <- list(iris = iris, cars = cars, n = 2)\n",
    "\n",
    "這代表第一個元素的名字是 \"iris\"，第二個是\"cars\"，第三個是\"n\"\n",
    "\n",
    "而和我們使用x[[3]]的方式類似，我們也可以使用 my.list[[\"n\"]] 來選擇第三個，也就是名字是\"n\"的元素\n",
    "\n",
    "而從 str 函式的暗示中，我們知道在 my.list 的第三個元素被標示為 $n\n",
    "\n",
    "所以我們也可以利用 my.list$n 來取出名字是 \"n\" 的元素"
   ]
  },
  {
   "cell_type": "code",
   "execution_count": null,
   "metadata": {},
   "outputs": [],
   "source": [
    "# 請以 str 指令觀察 g 的結構，有什麼發現呢？\n",
    "# g 是一個線性模型，假如想要取出該模型的係數，應該要如何做？"
   ]
  },
  {
   "cell_type": "markdown",
   "metadata": {},
   "source": [
    "R 語言中，除了類別以外，長度也是 R 物件的重要屬性"
   ]
  },
  {
   "cell_type": "code",
   "execution_count": null,
   "metadata": {},
   "outputs": [],
   "source": [
    "# 執行下列指令後，可得 x 是一個長度為 5 的 numeric 向量\n",
    "x <- 1:5"
   ]
  },
  {
   "cell_type": "code",
   "execution_count": null,
   "metadata": {},
   "outputs": [],
   "source": [
    "# length() 函式除了用來取得 R 物件的長度以外\n",
    "# 也可以被用來指定 R 物件的長度，如\n",
    "length(x) <- 10\n",
    "\n",
    "# 請再觀察 x 的模樣"
   ]
  },
  {
   "cell_type": "code",
   "execution_count": null,
   "metadata": {},
   "outputs": [],
   "source": [
    "# 請指定 x 的第七個元素為 7，觀察 x 的變化"
   ]
  },
  {
   "cell_type": "code",
   "execution_count": null,
   "metadata": {},
   "outputs": [],
   "source": [
    "# 請指定 x 的第 13 個元素為 13，觀察 x 的變化"
   ]
  },
  {
   "cell_type": "code",
   "execution_count": null,
   "metadata": {},
   "outputs": [],
   "source": [
    "# 請嘗試將 x 中不是 NA 的元素，複製到另一個向量 x2 中"
   ]
  },
  {
   "cell_type": "markdown",
   "metadata": {},
   "source": [
    "向量是一維的元素組合\n",
    "\n",
    "二維的元素組合就是矩陣 (matrix)\n",
    "\n",
    "而更高維度的元素組合也就是現在很流行的所謂張量 (tensor)，而在 R 中則被稱為是 array"
   ]
  },
  {
   "cell_type": "code",
   "execution_count": null,
   "metadata": {},
   "outputs": [],
   "source": [
    "# 我們可以利用matrix這個函數來建立一個矩陣\n",
    "# 舉例來說，matrix(1:18, 6, 3) 就可以建立一個 6 乘 3 的矩陣。 請同學試試看，並把這個矩陣寫入變數 m 。"
   ]
  },
  {
   "cell_type": "code",
   "execution_count": null,
   "metadata": {},
   "outputs": [],
   "source": [
    "# 利用 attributes(m) 看看 matrix 物件的屬性有什麼？\n",
    "# 利用 class 與 mode 指令觀察 matrix 的類別與儲存型態，有什麼發現？"
   ]
  },
  {
   "cell_type": "code",
   "execution_count": null,
   "metadata": {},
   "outputs": [],
   "source": [
    "# 重要的屬性，R 都會提供內建函數來方便存取。dim() 就是可以存取矩陣維度的函數\n",
    "# 請同學試試看：dim(m)"
   ]
  },
  {
   "cell_type": "code",
   "execution_count": null,
   "metadata": {},
   "outputs": [],
   "source": [
    "# 根據先前操弄向量長度的經驗可知，矩陣的維度應該也是可以操弄的\n",
    "# 請嘗試下列指令 dim(m) <- c(3, 6)，再觀察 m 的樣貌"
   ]
  },
  {
   "cell_type": "code",
   "execution_count": null,
   "metadata": {},
   "outputs": [],
   "source": [
    "# 除了 dim() 以外，還可以利用 nrow() 以及 ncol() 來取得矩陣的行數與列數\n",
    "# 請參照兩者的 help 並且嘗試之"
   ]
  },
  {
   "cell_type": "code",
   "execution_count": null,
   "metadata": {},
   "outputs": [],
   "source": [
    "# 除了二維矩陣 (matrix) 之外，R 與也還有更高維度的陣列 (張量)\n",
    "# 我們可以直接更改 m 的維度到更高維。請同學試試看：dim(m) <- c(3, 3, 2)"
   ]
  },
  {
   "cell_type": "code",
   "execution_count": null,
   "metadata": {},
   "outputs": [],
   "source": [
    "# 我們也可以用 array() 函式直接產生高維陣列 (張量)，如\n",
    "array(1:18, dim = c(3,3,2))"
   ]
  },
  {
   "cell_type": "code",
   "execution_count": null,
   "metadata": {},
   "outputs": [],
   "source": [
    "# 不過 jupyter notebook 並未實作張量的顯示，需要使用 R 或 RStudio 才能看到差別"
   ]
  },
  {
   "cell_type": "code",
   "execution_count": null,
   "metadata": {},
   "outputs": [],
   "source": [
    "# 在R 中，矩陣的資料順序是：c(m[1,1], m[2,1], m[3,1], ...)\n",
    "# 也就是說，如果我們下指令：matrix(1:18, 3, 6)\n",
    "# 則 m[1,1]會是 1, m[2,1]會是2, m[3,1]是3, m[1,2]是4, 以此類推。\n",
    "m <- matrix(1:18, 3 , 6)\n",
    "m\n",
    "m[1,1]\n",
    "m[2,1]\n",
    "m[3,1]\n",
    "m[1,2]"
   ]
  },
  {
   "cell_type": "code",
   "execution_count": null,
   "metadata": {},
   "outputs": [],
   "source": [
    "# 但是我們也可以嘗試不同的建立方式，如：\n",
    "m2 <- matrix(1:18, 3 , 6, byrow = T)\n",
    "\n",
    "# 請重複前一個 cell 的觀察步驟，觀察 m2 與 m 有什麼不同"
   ]
  },
  {
   "cell_type": "code",
   "execution_count": null,
   "metadata": {},
   "outputs": [],
   "source": [
    "# 在矩陣的存取介面中 m[i, j] 代表要取出矩陣 m 第 i 列 第 j 欄(行) 的元素\n",
    "# 如若 i 或 j 並未指定數值，則將取出整列 (欄、行) 的元素，如\n",
    "m[1,]\n",
    "m[,2]\n",
    "m[,]\n",
    "\n",
    "# 請觀察上述輸出的 class，有什麼不同？"
   ]
  },
  {
   "cell_type": "code",
   "execution_count": null,
   "metadata": {},
   "outputs": [],
   "source": [
    "# R 語言預設會根據輸出的維度來調整輸出資料的型態\n",
    "# 但是在資料整理時，如此作法有時候會帶來一些困擾\n",
    "# 實務上可以增加一個 drop 參數，來避免這樣的問題，如\n",
    "m[1,,drop = FALSE]\n",
    "\n",
    "# 試觀察上述資料的類別，有什麼變化？"
   ]
  },
  {
   "cell_type": "markdown",
   "metadata": {},
   "source": [
    "接著，我們要介紹一個在R 中很有名的物件。這個物件的設計，完全滿足了近代對結構化資料分析的需求。\n",
    "\n",
    "包含 Apache Spark、Python 的 pandas 套件都有受到這個設計的影響\n",
    "\n",
    "這個物件就是R 的data.frame。\n",
    "\n",
    "vector/matrix/tensor 源於線性代數的數值計算，有同質性的限制，也就是其中所有的元素都必須是同樣的型態\n",
    "\n",
    "這在資料分析上並不實際，因為一般分析的資料，通常並不會全部都是相同的資料型態\n",
    "\n",
    "在結構化的資料中，通常資料是以表格的形式，而各欄位會有自己的型態，例如是：數值型態、類別型態等等。\n",
    "\n",
    "R 的data.frame就是要表現出二維表格特性的物件\n",
    "\n",
    "首先，data.frame是一種list。因為表格的各欄是型態不一的向量，所以我們需要用list來裝不同型態的向量。\n",
    "\n",
    "第二，因為表格的資料是結構化的，所以data.frame存放的值會有格式上的限制\n",
    "\n",
    "具體來說，data.frame的各個元素必須是以下幾種類型之一：\n",
    "\n",
    "數值(numeric)、字串(character)、布林(logical)、類別(factor)、數值矩陣(numeric matrix)、 list或data.frame。\n",
    "\n",
    "最重要的是，因為data.frame代表的是二維表格，所以每一個值的長度須一致\n",
    "\n",
    "(若為矩陣或data.frame，則是列 (row) 的數量需一致)，此特性可以在整理資料時提供很大的幫助。"
   ]
  },
  {
   "cell_type": "code",
   "execution_count": null,
   "metadata": {},
   "outputs": [],
   "source": [
    "# 在R 之中，可以使用 data.frame() 函式來建立一個data.frame\n",
    "# 如 data.frame(class = \"Data Mining\", id = 1:10, scores = matrix(floor(rnorm(20, 75, 10)), nrow=10, ncol=2)) \n",
    "# 並且將此 data.frame 存到變數 df"
   ]
  },
  {
   "cell_type": "code",
   "execution_count": null,
   "metadata": {},
   "outputs": [],
   "source": [
    "# 請以 str() 觀察 df，有什麼發現？"
   ]
  },
  {
   "cell_type": "code",
   "execution_count": null,
   "metadata": {},
   "outputs": [],
   "source": [
    "# data.frame 同時兼容 list 與 matrix 的存取機制\n",
    "# 根據上述的說法以及觀察的結論，假如我想要取出 df 的第 1 欄 (行) 有哪些寫法？\n",
    "# 又假如我想要取得第一列第二欄的資料又有什麼寫法？\n",
    "# 此外，假如我想要取得 scores.1 及格的學生的 id 又應該如何做？"
   ]
  },
  {
   "cell_type": "code",
   "execution_count": null,
   "metadata": {},
   "outputs": [],
   "source": [
    "# colnames() 函式可以取得 data.frame 的欄位名稱\n",
    "# 但同時，names() 似乎也有相同的作用，這是為什麼呢？"
   ]
  },
  {
   "cell_type": "code",
   "execution_count": null,
   "metadata": {},
   "outputs": [],
   "source": [
    "# 由於 data.frame 具有 list 的特性，所以假如要新增一個欄位也是十分容易的，如\n",
    "df$report = floor(rnorm(10, 60, 10))\n",
    "df\n",
    "# 假如輸入的資料數量與 data.frame 的 dimension 不合會怎樣呢？"
   ]
  },
  {
   "cell_type": "markdown",
   "metadata": {},
   "source": [
    "練習一: 以 iris 資料表練習 data.frame 的存取"
   ]
  },
  {
   "cell_type": "code",
   "execution_count": null,
   "metadata": {},
   "outputs": [],
   "source": [
    "# 請練習以 data.frame 的存取方式 回答下列問題\n",
    "# iris 資料表共有幾筆資料？\n",
    "# iris 資料表中個樣本記載了幾種不同的屬性？\n",
    "# iris 資料表中，有幾筆樣本其品種為 setosa\n",
    "# 分別計算各品種之其花瓣與花萼長度的平均數值，你發現了什麼？\n",
    "# 各品種中，花萼長度超過 5 cm 的樣本各有幾株？\n",
    "# versicolor 品種的樣本中，其花萼長度大於 virginica 品種之平均花萼長度 的樣本有幾株？\n",
    "# 在 iris 資料表中新增一個欄位記載各樣本花瓣與花萼的總長\n",
    "# iris 資料表中，花辦與花萼之總長最長的一株樣本，是什麼品種的？\n",
    "# 資料集中，各品種花瓣與花萼之長度總和的平均各為多少？"
   ]
  },
  {
   "cell_type": "markdown",
   "metadata": {},
   "source": [
    "介紹過了 R 的幾種基本資料型態\n",
    "\n",
    "我們將以 matrix 與 data.frame 為基礎\n",
    "\n",
    "帶入部分在 R 中進行線性代數計算以及統計建模的概念\n",
    "\n",
    "但在此之前，我們先介紹在 R 之中進行矩陣運算的方法"
   ]
  },
  {
   "cell_type": "code",
   "execution_count": null,
   "metadata": {},
   "outputs": [],
   "source": [
    "# 在R 中兩個矩陣要作矩陣乘法，就是使用 %*% 這個運算符號\n",
    "# 請各位試試看 matrix(1:6, 2, 3) %*% matrix(3:8, 3, 2) 會得到什麼"
   ]
  },
  {
   "cell_type": "code",
   "execution_count": null,
   "metadata": {},
   "outputs": [],
   "source": [
    "# 當兩個向量使用 %*% 做運算，會得到他們的內積\n",
    "# 請各位試試看 1:3 %*% 1:3 會得到什麼"
   ]
  },
  {
   "cell_type": "code",
   "execution_count": null,
   "metadata": {},
   "outputs": [],
   "source": [
    "# 當矩陣乘向量的時候，單一向量會被視為行向量\n",
    "# 最後會得到矩陣每個列和單一向量的內積，形成一個新的行向量\n",
    "# 請各位嘗試 matrix(1:9,3,3) %*% 1:3"
   ]
  },
  {
   "cell_type": "code",
   "execution_count": null,
   "metadata": {},
   "outputs": [],
   "source": [
    "# 矩陣乘法需要滿足維度相對應的限制 如\n",
    "# matrix(1:9, 3, 3) 與 matrix(1:15, 5, 3) 由於維度不對應，是無法相乘的\n",
    "# 這時候我們需要利用 t() 轉置後者，使得維度相對應\n",
    "# 請參閱 t() 的 help，完成上述矩陣的乘法"
   ]
  },
  {
   "cell_type": "code",
   "execution_count": null,
   "metadata": {},
   "outputs": [],
   "source": [
    "# 我們可以用diag()快速建構對角化的矩陣\n",
    "# 舉例來說：diag(1, 3)會建立出3 乘3 的單位矩陣。請試試看。"
   ]
  },
  {
   "cell_type": "code",
   "execution_count": null,
   "metadata": {},
   "outputs": [],
   "source": [
    "# 如果已知A %*% x = b，給定A 和b ，我們就可以用solve 解出 x 。 \n",
    "# 舉例來說，若 A 是 matrix(1:4, 2, 2) 而 b 是c(3, 8)，solve(A, b) 即可以給出x。 \n",
    "A <- matrix(1:4, 2, 2)\n",
    "b <- c(3,8)\n",
    "\n",
    "# 所以請同學直接解出 x 將其存到 變數 x 之中，並且實際驗算"
   ]
  },
  {
   "cell_type": "code",
   "execution_count": null,
   "metadata": {},
   "outputs": [],
   "source": [
    "# 如果直接使用solve(A)，則 R 會算出A 的反矩陣\n",
    "# 矩陣反矩陣相承會變成單位矩陣，請各位同學嘗試之"
   ]
  },
  {
   "cell_type": "code",
   "execution_count": null,
   "metadata": {},
   "outputs": [],
   "source": [
    "# 使用eigen(A)則可以解出 A 的特徵值(eigenvalues)和特徵向量(eigenvectors)\n",
    "# 請各位先以 str() 觀察 eigen(A) 的結構\n",
    "# 然後嘗試 (A %*% eigen(A)$vectors / eigen(A)$vectors)[1,] 是否與其 eigenvalues 相同呢？"
   ]
  },
  {
   "cell_type": "markdown",
   "metadata": {},
   "source": [
    "練習二：手刻以最小方差法進行線性回歸"
   ]
  },
  {
   "cell_type": "code",
   "execution_count": null,
   "metadata": {},
   "outputs": [],
   "source": [
    "#' 給定一個矩陣X，\n",
    "X <- cbind(x1 = 1, x2 = 1:10, x3 = sin(1:10))\n",
    "#' 以及一個長度為3 的向量 beta。\n",
    "beta <- c(0.5, -1, 4.3)\n",
    "\n",
    "#' 我們稱`X[,1] 為x1, X[,2] 為x2, X[,3] 為 x3\n",
    "#' 向量y 的值是 x1 * beta[1] + x2 * beta[2] + x3 * beta[3]，\n",
    "#' 請用矩陣乘法`%*%`算出向量y。\n",
    "#'     dim(y) 應該是 c(10, 1)\n",
    "\n",
    "y <- NULL # 請將 NULL 替換成你的程式碼，算出正確的答案"
   ]
  },
  {
   "cell_type": "code",
   "execution_count": null,
   "metadata": {},
   "outputs": [],
   "source": [
    "#' epsilon 是一個隨機產生的雜訊向量，\n",
    "epsilon <- c(-1.24462014500259, 0.146172987456978, 1.56426869006839, -0.856920339050681,\n",
    "    -1.15277300953772, 0.717919832604741, -0.270623615316431, -1.66281578024014,\n",
    "    -1.15557078461633, -0.730253254897595)\n",
    "\n",
    "#' 我們讓y 參雜了雜訊。\n",
    "y <- y + epsilon"
   ]
  },
  {
   "cell_type": "code",
   "execution_count": null,
   "metadata": {},
   "outputs": [],
   "source": [
    "#' 假設我們只知道X和y ，而看不到epsilon和beta。根據X 和y ，要如何找出beta?\n",
    "#' 這是一個標準的迴歸分析問題:\n",
    "#' 在握有X 和Y 等資料之後，尋找資料之間的線性關係（即beta）。\n",
    "#' 例如，我們先前曾經尋找過車速與煞車滑行距離之間的關係。\n",
    "#'\n",
    "#' 請參考<https://en.wikipedia.org/wiki/Ordinary_least_squares#Estimation>裡的公式：\n",
    "#' $(X^T X)^{-1} X^T y$（方程式的圖片版： <http://i.imgur.com/Aykv7W3.png>），利用這章學到的矩陣乘法，與線性代數函式，算出beta的估計值。\n",
    "#'\n",
    "#' 你可以寫很多行的程式碼，但是請把結果存到beta.hat這個變數之中\n",
    "#' ps. class(beta.hat) 應該要是 matrix\n",
    "#'     dim(beta.hat) 應該是 c(3, 1)\n",
    "#'     rownames(beta.hat) 應該是 c(\"x1\", \"x2\", \"x3\")\n",
    "\n",
    "beta.hat <- NULL # 請將NULL替換成你的程式碼\n",
    "\n",
    "#' 請各位比較 beta.hat 和  beta 的數值"
   ]
  },
  {
   "cell_type": "code",
   "execution_count": null,
   "metadata": {},
   "outputs": [],
   "source": [
    "#' 接下來我們引入 CO2 資料表的資料，來實踐上述的方法\n",
    "#' 首先利用 model.matrix() 函式 來建立資料矩陣如下：\n",
    "\n",
    "X <- model.matrix(~ Type + Treatment + conc, CO2)\n",
    "\n",
    "#' 如此就建立了一個基於 Type、Treatment 和 conc 的矩陣\n",
    "\n",
    "#' 我們以 uptake 的值放入 y 之中，作為迴歸的目標\n",
    "y <- CO2$uptake"
   ]
  },
  {
   "cell_type": "code",
   "execution_count": null,
   "metadata": {},
   "outputs": [],
   "source": [
    "#' 同樣請各位利用 <https://en.wikipedia.org/wiki/Ordinary_least_squares#Estimation> 的公式\n",
    "#' 利用迴歸的演算法，\n",
    "#' 找出 beta.hat，也就是 X 與 y 之間的線性迴歸係數，描述 X 與 y 的關係\n",
    "#' 理論上讓 X %*% beta.hat 的結果 (存成 y.hat) 會很靠近 y\n",
    "#' ps. class(beta.hat) 應該為matrix\n",
    "#'     dim(beta.hat) 應該為 c(4, 1)\n",
    "#'     rownames(beta.hat) 應該為 c(\"(Intercept)\",\"TypeMississippi\",\"Treatmentchilled\",\"conc\")\n",
    "beta.hat <- NULL\n",
    "y.hat <- X %*% beta.hat\n",
    "\n",
    "#' 這邊我們可以計算X %*% beta.hat 和 y 的correlation（提示：用函數`cor`）\n",
    "my.corr <- cor(X %*% beta.hat, y)"
   ]
  },
  {
   "cell_type": "code",
   "execution_count": null,
   "metadata": {},
   "outputs": [],
   "source": [
    "#' my.corr 的平方，就是迴歸分析時常提到的：R-squared。\n",
    "#' 很多分析師會用這個數據來判斷這個模型好不好。\n",
    "#' 在R 裡面跑迴歸分析，可以簡單用`lm`這個函數來進行線性迴歸：\n",
    "g <- lm(uptake ~ Type + Treatment + conc, CO2)\n",
    "\n",
    "#' g 這個物件就會包含我們剛剛算過得答案\n",
    "#' g$coef就會是beta.hat\n",
    "#' g$fitted.value就會是X %*% beta.hat\n",
    "#' summary(g)則會顯示各個參數的t 檢定，以及整個模型的R-squared\n",
    "g.s <- summary(g)"
   ]
  },
  {
   "cell_type": "code",
   "execution_count": null,
   "metadata": {},
   "outputs": [],
   "source": [
    "#' mode(g.s)顯示它是一個list。\n",
    "#' 請取出上述線性迴歸的 R-squared 數值，並且與 my.corr 的平方做比較"
   ]
  },
  {
   "cell_type": "code",
   "execution_count": null,
   "metadata": {},
   "outputs": [],
   "source": [
    "# 請以 cars 資料表為例，再做一次練習"
   ]
  }
 ],
 "metadata": {
  "kernelspec": {
   "display_name": "R",
   "language": "R",
   "name": "ir"
  },
  "language_info": {
   "codemirror_mode": "r",
   "file_extension": ".r",
   "mimetype": "text/x-r-source",
   "name": "R",
   "pygments_lexer": "r",
   "version": "3.6.1"
  }
 },
 "nbformat": 4,
 "nbformat_minor": 2
}
